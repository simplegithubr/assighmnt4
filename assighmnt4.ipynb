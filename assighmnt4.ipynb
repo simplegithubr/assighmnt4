{
  "nbformat": 4,
  "nbformat_minor": 0,
  "metadata": {
    "colab": {
      "provenance": [],
      "authorship_tag": "ABX9TyMlpkVn9M3wqR6EKkerXs8z",
      "include_colab_link": true
    },
    "kernelspec": {
      "name": "python3",
      "display_name": "Python 3"
    },
    "language_info": {
      "name": "python"
    }
  },
  "cells": [
    {
      "cell_type": "markdown",
      "metadata": {
        "id": "view-in-github",
        "colab_type": "text"
      },
      "source": [
        "<a href=\"https://colab.research.google.com/github/simplegithubr/assighmnt4/blob/main/assighmnt4.ipynb\" target=\"_parent\"><img src=\"https://colab.research.google.com/assets/colab-badge.svg\" alt=\"Open In Colab\"/></a>"
      ]
    },
    {
      "cell_type": "markdown",
      "source": [
        "Assignment 4: Deductive Logic Game - Guess the Secret Number"
      ],
      "metadata": {
        "id": "z2gvfy6aO0zi"
      }
    },
    {
      "cell_type": "code",
      "source": [
        "import random\n",
        "def generate_secret_number():\n",
        "    return str(random.randint(100,999))\n",
        "def get_feedback(secret, guess):\n",
        "    if guess == secret:\n",
        "       return \"👌👌👌 or Correct Correct Correct or You Got IT\"\n",
        "    feedback = []\n",
        "    secret_counts = {digit: secret.count(digit) for digit in set(secret)}\n",
        "    for i, digit in enumerate(guess):\n",
        "        if digit == secret[i]:\n",
        "           feedback.append(\"👌\")\n",
        "           secret_counts[digit] -= 1\n",
        "    for i, digit in enumerate(guess):\n",
        "          if digit in secret and digit != secret[i] and secret_counts[digit] > 0:\n",
        "             feedback.append(\"👍\")\n",
        "             secret_counts[digit] -= 1\n",
        "\n",
        "\n",
        "    if feedback:\n",
        "        result = \" \".join(feedback)\n",
        "        word_feedback = \"or \".join([\n",
        "           result,\n",
        "           \" \".join([\"Correct\" if f == \"👌\" else \"Ok\" for f in feedback])\n",
        "\n",
        "        ])\n",
        "        return word_feedback\n",
        "    else:\n",
        "       return \"❌ or Wrong\"\n",
        "\n",
        "def play_game():\n",
        "    secret_number = generate_secret_number()\n",
        "    attempts = 10\n",
        "    print(\"Welcome to the Guessing Game!\")\n",
        "    print(\"Guess a 3-digit number:\")\n",
        "\n",
        "    while attempts > 0:\n",
        "        guess = input(f\"Attempts left {attempts}. Guess a 3-digit number: \")\n",
        "\n",
        "\n",
        "        if not(guess.isdigit() and len(guess) == 3):\n",
        "           print(\"Invalid input! Please enter a three-digit number.\")\n",
        "           continue\n",
        "        feedback = get_feedback(secret_number, guess)\n",
        "        print(feedback)\n",
        "\n",
        "        if guess == secret_number:\n",
        "            break\n",
        "\n",
        "        attempts -= 1\n",
        "    else:\n",
        "       print(f\"Game over! The secret number was {secret_number}.\")\n",
        "\n",
        "if __name__==\"__main__\":\n",
        "    play_game()\n",
        "\n",
        "\n",
        "\n",
        "\n",
        "\n",
        "\n",
        "\n",
        "\n",
        "\n"
      ],
      "metadata": {
        "id": "h9iTVfDnUEI3",
        "colab": {
          "base_uri": "https://localhost:8080/"
        },
        "outputId": "476692f6-068e-45ee-df14-47f45c74c36a"
      },
      "execution_count": null,
      "outputs": [
        {
          "output_type": "stream",
          "name": "stdout",
          "text": [
            "Welcome to the Guessing Game!\n",
            "Guess a 3-digit number:\n",
            "Attempts left 10. Guess a 3-digit number: 324\n",
            "👍or Ok\n",
            "Attempts left 9. Guess a 3-digit number: 215\\\n",
            "Invalid input! Please enter a three-digit number.\n",
            "Attempts left 9. Guess a 3-digit number: 215\n",
            "👍 👍 👍or Ok Ok Ok\n",
            "Attempts left 8. Guess a 3-digit number: 125\n",
            "👌 👍 👍or Correct Ok Ok\n",
            "Attempts left 7. Guess a 3-digit number: 152\n",
            "👌👌👌 or Correct Correct Correct or You Got IT\n"
          ]
        }
      ]
    }
  ]
}